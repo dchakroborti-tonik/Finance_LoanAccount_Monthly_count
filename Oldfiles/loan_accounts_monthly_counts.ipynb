{
 "cells": [
  {
   "cell_type": "code",
   "execution_count": 59,
   "id": "7be5473a-a8ce-4bfc-be95-506d08584ce5",
   "metadata": {},
   "outputs": [],
   "source": [
    "import pandas as pd\n",
    "import numpy as np"
   ]
  },
  {
   "cell_type": "code",
   "execution_count": 60,
   "id": "39ec4409-a0c2-48c8-849d-1667ee7191ed",
   "metadata": {},
   "outputs": [],
   "source": [
    "# Year and Month for which data is extracted\n",
    "data_year = 2024\n",
    "data_month = 1"
   ]
  },
  {
   "cell_type": "markdown",
   "id": "efd239b9-9585-4f9d-8b2b-28b280ffe675",
   "metadata": {},
   "source": [
    "### Raw data"
   ]
  },
  {
   "cell_type": "code",
   "execution_count": 61,
   "id": "11ef7b91-0085-48cb-9dee-bcb597f8b2de",
   "metadata": {},
   "outputs": [
    {
     "data": {
      "application/vnd.jupyter.widget-view+json": {
       "model_id": "f0827fc470934edd92e4881d5b89cffd",
       "version_major": 2,
       "version_minor": 0
      },
      "text/plain": [
       "Query is running:   0%|          |"
      ]
     },
     "metadata": {},
     "output_type": "display_data"
    },
    {
     "data": {
      "application/vnd.jupyter.widget-view+json": {
       "model_id": "c5a824300614490d933a366c2bd80e5e",
       "version_major": 2,
       "version_minor": 0
      },
      "text/plain": [
       "Downloading:   0%|          |"
      ]
     },
     "metadata": {},
     "output_type": "display_data"
    }
   ],
   "source": [
    "%%bigquery StartedApps\n",
    "SELECT \n",
    "    DATE_TRUNC( startApplyDateTime,MONTH) as mm, \n",
    "    new_loan_type as LoanProduct,\n",
    "    count (distinct digitalLoanAccountId) as StartedApps\n",
    "FROM \n",
    "    `prj-prod-dataplatform.risk_credit_mis.loan_master_table` \n",
    "\n",
    "group by 1,2\n",
    "order by 1,2"
   ]
  },
  {
   "cell_type": "code",
   "execution_count": 62,
   "id": "6e4d003e-f01d-4b42-bd2c-48d3a4ee4037",
   "metadata": {},
   "outputs": [
    {
     "data": {
      "application/vnd.jupyter.widget-view+json": {
       "model_id": "a1668e5e4da44fd5b2ed2d5697d82652",
       "version_major": 2,
       "version_minor": 0
      },
      "text/plain": [
       "Query is running:   0%|          |"
      ]
     },
     "metadata": {},
     "output_type": "display_data"
    },
    {
     "data": {
      "application/vnd.jupyter.widget-view+json": {
       "model_id": "d598e3e486894d50ad904de09fc45343",
       "version_major": 2,
       "version_minor": 0
      },
      "text/plain": [
       "Downloading:   0%|          |"
      ]
     },
     "metadata": {},
     "output_type": "display_data"
    }
   ],
   "source": [
    "%%bigquery SubmittedApps\n",
    "SELECT \n",
    "    DATE_TRUNC( termsAndConditionsSubmitDateTime,MONTH) as mm,  \n",
    "    new_loan_type as LoanProduct,\n",
    "    count (distinct digitalLoanAccountId) as SubmittedApps\n",
    "FROM \n",
    "    `prj-prod-dataplatform.risk_credit_mis.loan_master_table` \n",
    "\n",
    "group by 1,2\n",
    "order by 1,2"
   ]
  },
  {
   "cell_type": "code",
   "execution_count": 63,
   "id": "ef62ceda-6eff-4e0e-9af1-30508a9469ef",
   "metadata": {},
   "outputs": [
    {
     "data": {
      "application/vnd.jupyter.widget-view+json": {
       "model_id": "5b5b4827cf19444a88db8ea314e06e11",
       "version_major": 2,
       "version_minor": 0
      },
      "text/plain": [
       "Query is running:   0%|          |"
      ]
     },
     "metadata": {},
     "output_type": "display_data"
    },
    {
     "data": {
      "application/vnd.jupyter.widget-view+json": {
       "model_id": "f2b257d8df364e6c879627d5047ddf25",
       "version_major": 2,
       "version_minor": 0
      },
      "text/plain": [
       "Downloading:   0%|          |"
      ]
     },
     "metadata": {},
     "output_type": "display_data"
    }
   ],
   "source": [
    "%%bigquery ApprovedApps\n",
    "SELECT \n",
    "    DATE_TRUNC( decision_date,MONTH) as mm, \n",
    "    new_loan_type as LoanProduct,\n",
    "    count (distinct digitalLoanAccountId) as ApprovedApps\n",
    "FROM \n",
    "    `prj-prod-dataplatform.risk_credit_mis.loan_master_table`\n",
    "where flagApproval = 1\n",
    "\n",
    "group by 1,2\n",
    "order by 1,2"
   ]
  },
  {
   "cell_type": "code",
   "execution_count": 64,
   "id": "15320a8d-ebc3-4cab-8d5d-a2e45815b6cf",
   "metadata": {},
   "outputs": [
    {
     "data": {
      "application/vnd.jupyter.widget-view+json": {
       "model_id": "0ef42cca1ee948298cbedbf4cd112b94",
       "version_major": 2,
       "version_minor": 0
      },
      "text/plain": [
       "Query is running:   0%|          |"
      ]
     },
     "metadata": {},
     "output_type": "display_data"
    },
    {
     "data": {
      "application/vnd.jupyter.widget-view+json": {
       "model_id": "3490945a8941473e90f9789783f097f6",
       "version_major": 2,
       "version_minor": 0
      },
      "text/plain": [
       "Downloading:   0%|          |"
      ]
     },
     "metadata": {},
     "output_type": "display_data"
    }
   ],
   "source": [
    "%%bigquery BookedApps\n",
    "SELECT \n",
    "DATE_TRUNC( disbursementDateTime,MONTH) as mm, \n",
    "    new_loan_type as LoanProduct,\n",
    "    count (distinct digitalLoanAccountId) as BookedApps\n",
    "FROM \n",
    "    `prj-prod-dataplatform.risk_credit_mis.loan_master_table` \n",
    "\n",
    "group by 1,2\n",
    "order by 1,2"
   ]
  },
  {
   "cell_type": "code",
   "execution_count": 65,
   "id": "7c43de63-3342-45e1-bbc4-14323ac2aeab",
   "metadata": {},
   "outputs": [
    {
     "data": {
      "application/vnd.jupyter.widget-view+json": {
       "model_id": "fb5a5bcbf3534d71973f93ca6521f92a",
       "version_major": 2,
       "version_minor": 0
      },
      "text/plain": [
       "Query is running:   0%|          |"
      ]
     },
     "metadata": {},
     "output_type": "display_data"
    },
    {
     "data": {
      "application/vnd.jupyter.widget-view+json": {
       "model_id": "f52da9b9876e4cc785641f51be6463b3",
       "version_major": 2,
       "version_minor": 0
      },
      "text/plain": [
       "Downloading:   0%|          |"
      ]
     },
     "metadata": {},
     "output_type": "display_data"
    }
   ],
   "source": [
    "%%bigquery BookedAmt\n",
    "SELECT \n",
    "DATE_TRUNC( disbursementDateTime,MONTH) as mm, \n",
    "    new_loan_type as LoanProduct,\n",
    "    sum (disbursedLoanAmount) as BookedAmt\n",
    "FROM \n",
    "    `prj-prod-dataplatform.risk_credit_mis.loan_master_table` \n",
    "\n",
    "group by 1,2\n",
    "order by 1,2"
   ]
  },
  {
   "cell_type": "code",
   "execution_count": 66,
   "id": "b68890c0-0b08-4f5f-83ce-4825b1c2eea6",
   "metadata": {},
   "outputs": [],
   "source": [
    "raw_data = StartedApps.merge(SubmittedApps,how='outer').merge(ApprovedApps,how='outer').merge(BookedApps,how='outer').merge(BookedAmt,how='outer')"
   ]
  },
  {
   "cell_type": "code",
   "execution_count": 68,
   "id": "77c13550-321a-4b40-a15d-5e2d69ca8f87",
   "metadata": {},
   "outputs": [],
   "source": [
    "raw_data_current_month = raw_data[(raw_data['mm']>='2022-08-01') &(raw_data['mm']<=f'{data_year}-{data_month:02d}-01')]"
   ]
  },
  {
   "cell_type": "markdown",
   "id": "0989eae6-0af7-4270-a2ba-f7ed7a73f936",
   "metadata": {},
   "source": [
    "### Loan Account Tagging"
   ]
  },
  {
   "cell_type": "code",
   "execution_count": 69,
   "id": "fb835137-cd3e-4f5d-9a7e-a22db9cb0263",
   "metadata": {},
   "outputs": [
    {
     "data": {
      "application/vnd.jupyter.widget-view+json": {
       "model_id": "f532874c097148e99f910fd606b17e02",
       "version_major": 2,
       "version_minor": 0
      },
      "text/plain": [
       "Query is running:   0%|          |"
      ]
     },
     "metadata": {},
     "output_type": "display_data"
    },
    {
     "data": {
      "application/vnd.jupyter.widget-view+json": {
       "model_id": "a72d473ff7114da6b59d68d2b8a88d60",
       "version_major": 2,
       "version_minor": 0
      },
      "text/plain": [
       "Downloading:   0%|          |"
      ]
     },
     "metadata": {},
     "output_type": "display_data"
    }
   ],
   "source": [
    "%%bigquery loan_type\n",
    "  SELECT\n",
    "    loanAccountNumber,\n",
    "    new_loan_type as LoanProduct,\n",
    "    disbursementDateTime,\n",
    "    (CASE WHEN new_loan_type = 'Flex-up' then\n",
    "    LAG(new_loan_type) OVER (PARTITION BY customerId ORDER BY disbursementDateTime) END) AS OriginalLoanProduct\n",
    "  FROM\n",
    "    `prj-prod-dataplatform.risk_credit_mis.loan_master_table`\n",
    "   where flagDisbursement=1\n"
   ]
  },
  {
   "cell_type": "code",
   "execution_count": 71,
   "id": "ffbc4ae1-e0a5-4690-b9f6-a999af33ad18",
   "metadata": {},
   "outputs": [],
   "source": [
    "Loan_Acs_current_month = loan_type[(loan_type['disbursementDateTime'].dt.month == data_month) & (loan_type['disbursementDateTime'].dt.year == data_year)]"
   ]
  },
  {
   "cell_type": "code",
   "execution_count": 73,
   "id": "a8d3ef79-5422-42fa-b135-9f4a87d190f6",
   "metadata": {},
   "outputs": [],
   "source": [
    "Loan_Acs_current_month = Loan_Acs_current_month[['loanAccountNumber', 'LoanProduct','OriginalLoanProduct']]"
   ]
  },
  {
   "cell_type": "markdown",
   "id": "5300e36f-84a2-4822-a9ff-ed2a241b4a1b",
   "metadata": {},
   "source": [
    "#### VAS"
   ]
  },
  {
   "cell_type": "code",
   "execution_count": 74,
   "id": "e53ffe84-a5d7-441d-994c-32569a7fc111",
   "metadata": {},
   "outputs": [
    {
     "data": {
      "application/vnd.jupyter.widget-view+json": {
       "model_id": "4bdb360a680d45949b926e31dd78f97d",
       "version_major": 2,
       "version_minor": 0
      },
      "text/plain": [
       "Query is running:   0%|          |"
      ]
     },
     "metadata": {},
     "output_type": "display_data"
    },
    {
     "data": {
      "application/vnd.jupyter.widget-view+json": {
       "model_id": "cefc1bacb8a243b59461924e8b2c34e4",
       "version_major": 2,
       "version_minor": 0
      },
      "text/plain": [
       "Downloading:   0%|          |"
      ]
     },
     "metadata": {},
     "output_type": "display_data"
    }
   ],
   "source": [
    "%%bigquery vas_df\n",
    "SELECT \n",
    "    extract(year from disbursementDateTime) as year , \n",
    "    extract(month from disbursementDateTime) as month,\n",
    "     new_loan_type, \n",
    "    count(distinct  b.loanAccountNumber ) AS TotalSold,\n",
    "   \n",
    "   count(distinct CASE WHEN vas_flag = 'true' THEN b.loanAccountNumber END) AS SoldWithVAS\n",
    "     FROM `prj-prod-dataplatform.dl_loans_db_raw.tdbk_digital_loan_application` a join\n",
    "`prj-prod-dataplatform.risk_credit_mis.loan_master_table` b on a.loanAccountNumber = b.loanAccountNumber\n",
    "where flagDisbursement = 1\n",
    "group by 1,2 ,3 \n",
    "order by 1,2,3"
   ]
  },
  {
   "cell_type": "code",
   "execution_count": 75,
   "id": "0bd66ce7-31b6-4ffc-a536-51090016996e",
   "metadata": {},
   "outputs": [],
   "source": [
    "vas_df_current_month = vas_df[(vas_df['year']==data_year)& (vas_df['month']==data_month)]"
   ]
  },
  {
   "cell_type": "markdown",
   "id": "deec16f6-1d16-4a62-881f-be91cfdf6314",
   "metadata": {},
   "source": [
    "### export"
   ]
  },
  {
   "cell_type": "code",
   "execution_count": 77,
   "id": "0dd9ac2d-c037-4a6b-bcaf-133eaac53490",
   "metadata": {},
   "outputs": [],
   "source": [
    "with pd.ExcelWriter(f'loan_accounts_tagging_{data_year}_{data_month:02d}.xlsx') as writer:\n",
    "    # Write each DataFrame to a specific sheet in the Excel file\n",
    "    raw_data_current_month.to_excel(writer, sheet_name='raw_data', index=False)\n",
    "    Loan_Acs_current_month.to_excel(writer, sheet_name='Loan Acs', index=False)\n",
    "    vas_df_current_month.to_excel(writer, sheet_name='VAS', index=False)"
   ]
  },
  {
   "cell_type": "code",
   "execution_count": null,
   "id": "4a34c1c5-6da8-4eb6-8ee2-48d171d1c5c2",
   "metadata": {},
   "outputs": [],
   "source": []
  }
 ],
 "metadata": {
  "environment": {
   "kernel": "python3",
   "name": "common-cpu.m110",
   "type": "gcloud",
   "uri": "gcr.io/deeplearning-platform-release/base-cpu:m110"
  },
  "kernelspec": {
   "display_name": "Python 3",
   "language": "python",
   "name": "python3"
  },
  "language_info": {
   "codemirror_mode": {
    "name": "ipython",
    "version": 3
   },
   "file_extension": ".py",
   "mimetype": "text/x-python",
   "name": "python",
   "nbconvert_exporter": "python",
   "pygments_lexer": "ipython3",
   "version": "3.10.12"
  }
 },
 "nbformat": 4,
 "nbformat_minor": 5
}
